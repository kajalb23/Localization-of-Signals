{
  "nbformat": 4,
  "nbformat_minor": 0,
  "metadata": {
    "colab": {
      "provenance": []
    },
    "kernelspec": {
      "name": "python3",
      "display_name": "Python 3"
    },
    "language_info": {
      "name": "python"
    }
  },
  "cells": [
    {
      "cell_type": "code",
      "execution_count": null,
      "metadata": {
        "colab": {
          "base_uri": "https://localhost:8080/"
        },
        "id": "t8cW1EBqJGKo",
        "outputId": "13391e90-ecf3-496c-ad2d-59e0f3382de1"
      },
      "outputs": [
        {
          "output_type": "stream",
          "name": "stdout",
          "text": [
            "Epoch 1/5\n",
            "\u001b[1m25/25\u001b[0m \u001b[32m━━━━━━━━━━━━━━━━━━━━\u001b[0m\u001b[37m\u001b[0m \u001b[1m56s\u001b[0m 2s/step - accuracy: 0.0987 - loss: 2.7116 - val_accuracy: 0.1000 - val_loss: 2.3199\n",
            "Epoch 2/5\n",
            "\u001b[1m25/25\u001b[0m \u001b[32m━━━━━━━━━━━━━━━━━━━━\u001b[0m\u001b[37m\u001b[0m \u001b[1m51s\u001b[0m 2s/step - accuracy: 0.1116 - loss: 2.3284 - val_accuracy: 0.1000 - val_loss: 2.3007\n",
            "Epoch 3/5\n",
            "\u001b[1m25/25\u001b[0m \u001b[32m━━━━━━━━━━━━━━━━━━━━\u001b[0m\u001b[37m\u001b[0m \u001b[1m82s\u001b[0m 2s/step - accuracy: 0.1199 - loss: 2.3121 - val_accuracy: 0.1050 - val_loss: 2.3370\n",
            "Epoch 4/5\n",
            "\u001b[1m25/25\u001b[0m \u001b[32m━━━━━━━━━━━━━━━━━━━━\u001b[0m\u001b[37m\u001b[0m \u001b[1m56s\u001b[0m 2s/step - accuracy: 0.0815 - loss: 2.3125 - val_accuracy: 0.1050 - val_loss: 2.3089\n",
            "Epoch 5/5\n",
            "\u001b[1m25/25\u001b[0m \u001b[32m━━━━━━━━━━━━━━━━━━━━\u001b[0m\u001b[37m\u001b[0m \u001b[1m77s\u001b[0m 2s/step - accuracy: 0.1011 - loss: 2.3074 - val_accuracy: 0.1050 - val_loss: 2.3135\n",
            "\u001b[1m32/32\u001b[0m \u001b[32m━━━━━━━━━━━━━━━━━━━━\u001b[0m\u001b[37m\u001b[0m \u001b[1m9s\u001b[0m 285ms/step - accuracy: 0.1176 - loss: 2.2976\n",
            "Loss: 2.3021, Accuracy: 0.1120\n"
          ]
        }
      ],
      "source": [
        "import tensorflow as tf\n",
        "from tensorflow.keras import layers, models\n",
        "import numpy as np\n",
        "\n",
        "# Parameters\n",
        "time_steps = 5          # Number of frames in sequence (e.g. 5 images per sample)\n",
        "img_height = 64\n",
        "img_width = 64\n",
        "channels = 3\n",
        "num_classes = 10\n",
        "\n",
        "# Dummy data: 1000 samples, each sample is a sequence of 5 images (64x64x3)\n",
        "x_data = np.random.random((1000, time_steps, img_height, img_width, channels))\n",
        "y_data = np.random.randint(0, num_classes, size=(1000,))\n",
        "\n",
        "# Build CRNN model\n",
        "input_layer = layers.Input(shape=(time_steps, img_height, img_width, channels))\n",
        "\n",
        "# TimeDistributed CNN layers to process each frame independently but share weights\n",
        "cnn = layers.TimeDistributed(layers.Conv2D(32, (3,3), activation='relu'))(input_layer)\n",
        "cnn = layers.TimeDistributed(layers.MaxPooling2D((2, 2)))(cnn)\n",
        "cnn = layers.TimeDistributed(layers.Conv2D(64, (3,3), activation='relu'))(cnn)\n",
        "cnn = layers.TimeDistributed(layers.MaxPooling2D((2, 2)))(cnn)\n",
        "cnn = layers.TimeDistributed(layers.Flatten())(cnn)\n",
        "\n",
        "# Now, cnn output shape: (batch_size, time_steps, features)\n",
        "# Pass sequence of features to RNN\n",
        "rnn = layers.SimpleRNN(64, activation='tanh')(cnn)\n",
        "\n",
        "# Output layer for classification\n",
        "output = layers.Dense(num_classes, activation='softmax')(rnn)\n",
        "\n",
        "# Define and compile model\n",
        "model = models.Model(inputs=input_layer, outputs=output)\n",
        "model.compile(\n",
        "    optimizer='adam',\n",
        "    loss='sparse_categorical_crossentropy',\n",
        "    metrics=['accuracy']\n",
        ")\n",
        "\n",
        "# Train the model\n",
        "model.fit(x_data, y_data, epochs=5, batch_size=32, validation_split=0.2)\n",
        "\n",
        "# Evaluate\n",
        "loss, accuracy = model.evaluate(x_data, y_data)\n",
        "print(f\"Loss: {loss:.4f}, Accuracy: {accuracy:.4f}\")\n"
      ]
    }
  ]
}